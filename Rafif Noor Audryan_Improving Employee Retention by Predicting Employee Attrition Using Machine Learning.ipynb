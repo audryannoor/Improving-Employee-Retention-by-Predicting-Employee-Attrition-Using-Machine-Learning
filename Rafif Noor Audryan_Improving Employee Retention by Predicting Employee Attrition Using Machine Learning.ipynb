{
 "cells": [
  {
   "cell_type": "markdown",
   "id": "25bb8f0d-ce90-44f8-b00f-a3048b02231c",
   "metadata": {},
   "source": [
    "# Import Library"
   ]
  },
  {
   "cell_type": "code",
   "execution_count": 1,
   "id": "6095cf9c-4a6c-42d5-bcf4-fb595959c6bb",
   "metadata": {},
   "outputs": [],
   "source": [
    "import numpy as np\n",
    "import pandas as pd\n",
    "import matplotlib.pyplot as plt\n",
    "import seaborn as sns\n",
    "import warnings\n",
    "warnings.filterwarnings('ignore')\n",
    "pd.set_option('display.max_columns', None)\n",
    "pd.set_option('display.max_rows', 100)"
   ]
  },
  {
   "cell_type": "markdown",
   "id": "9e8ece04-fc60-4894-b68d-1d4feba91739",
   "metadata": {},
   "source": [
    "# Import Data"
   ]
  },
  {
   "cell_type": "code",
   "execution_count": 2,
   "id": "0c2afa8d-bb09-4814-9313-d30e2c851bf8",
   "metadata": {},
   "outputs": [],
   "source": [
    "df = pd.read_excel('Improving Employee Retention.xlsx')"
   ]
  },
  {
   "cell_type": "markdown",
   "id": "518fc386-43c2-4f4d-8803-968de070792f",
   "metadata": {},
   "source": [
    "# Data Understanding"
   ]
  },
  {
   "cell_type": "code",
   "execution_count": 3,
   "id": "ffe31740-9bbc-4c19-90f4-40f56f491a04",
   "metadata": {},
   "outputs": [
    {
     "data": {
      "text/html": [
       "<div>\n",
       "<style scoped>\n",
       "    .dataframe tbody tr th:only-of-type {\n",
       "        vertical-align: middle;\n",
       "    }\n",
       "\n",
       "    .dataframe tbody tr th {\n",
       "        vertical-align: top;\n",
       "    }\n",
       "\n",
       "    .dataframe thead th {\n",
       "        text-align: right;\n",
       "    }\n",
       "</style>\n",
       "<table border=\"1\" class=\"dataframe\">\n",
       "  <thead>\n",
       "    <tr style=\"text-align: right;\">\n",
       "      <th></th>\n",
       "      <th>Username</th>\n",
       "      <th>EnterpriseID</th>\n",
       "      <th>StatusPernikahan</th>\n",
       "      <th>JenisKelamin</th>\n",
       "      <th>StatusKepegawaian</th>\n",
       "      <th>Pekerjaan</th>\n",
       "      <th>JenjangKarir</th>\n",
       "      <th>PerformancePegawai</th>\n",
       "      <th>AsalDaerah</th>\n",
       "      <th>HiringPlatform</th>\n",
       "      <th>SkorSurveyEngagement</th>\n",
       "      <th>SkorKepuasanPegawai</th>\n",
       "      <th>JumlahKeikutsertaanProjek</th>\n",
       "      <th>JumlahKeterlambatanSebulanTerakhir</th>\n",
       "      <th>JumlahKetidakhadiran</th>\n",
       "      <th>NomorHP</th>\n",
       "      <th>Email</th>\n",
       "      <th>TingkatPendidikan</th>\n",
       "      <th>PernahBekerja</th>\n",
       "      <th>IkutProgramLOP</th>\n",
       "      <th>AlasanResign</th>\n",
       "      <th>TanggalLahir</th>\n",
       "      <th>TanggalHiring</th>\n",
       "      <th>TanggalPenilaianKaryawan</th>\n",
       "      <th>TanggalResign</th>\n",
       "    </tr>\n",
       "  </thead>\n",
       "  <tbody>\n",
       "    <tr>\n",
       "      <th>0</th>\n",
       "      <td>spiritedPorpoise3</td>\n",
       "      <td>111065</td>\n",
       "      <td>Belum_menikah</td>\n",
       "      <td>Pria</td>\n",
       "      <td>Outsource</td>\n",
       "      <td>Software Engineer (Back End)</td>\n",
       "      <td>Freshgraduate_program</td>\n",
       "      <td>Sangat_bagus</td>\n",
       "      <td>Jakarta Timur</td>\n",
       "      <td>Employee_Referral</td>\n",
       "      <td>4</td>\n",
       "      <td>4.0</td>\n",
       "      <td>0.0</td>\n",
       "      <td>0.0</td>\n",
       "      <td>9.0</td>\n",
       "      <td>+6282232522xxx</td>\n",
       "      <td>spiritedPorpoise3135@yahoo.com</td>\n",
       "      <td>Magister</td>\n",
       "      <td>1</td>\n",
       "      <td>1.0</td>\n",
       "      <td>masih_bekerja</td>\n",
       "      <td>1972-07-01</td>\n",
       "      <td>2011-01-10</td>\n",
       "      <td>2016-2-15</td>\n",
       "      <td>-</td>\n",
       "    </tr>\n",
       "    <tr>\n",
       "      <th>1</th>\n",
       "      <td>jealousGelding2</td>\n",
       "      <td>106080</td>\n",
       "      <td>Belum_menikah</td>\n",
       "      <td>Pria</td>\n",
       "      <td>FullTime</td>\n",
       "      <td>Data Analyst</td>\n",
       "      <td>Freshgraduate_program</td>\n",
       "      <td>Sangat_kurang</td>\n",
       "      <td>Jakarta Utara</td>\n",
       "      <td>Website</td>\n",
       "      <td>4</td>\n",
       "      <td>4.0</td>\n",
       "      <td>4.0</td>\n",
       "      <td>0.0</td>\n",
       "      <td>3.0</td>\n",
       "      <td>+6281270745xxx</td>\n",
       "      <td>jealousGelding2239@yahoo.com</td>\n",
       "      <td>Sarjana</td>\n",
       "      <td>1</td>\n",
       "      <td>1.0</td>\n",
       "      <td>toxic_culture</td>\n",
       "      <td>1984-04-26</td>\n",
       "      <td>2014-01-06</td>\n",
       "      <td>2020-1-17</td>\n",
       "      <td>2018-6-16</td>\n",
       "    </tr>\n",
       "    <tr>\n",
       "      <th>2</th>\n",
       "      <td>pluckyMuesli3</td>\n",
       "      <td>106452</td>\n",
       "      <td>Menikah</td>\n",
       "      <td>Pria</td>\n",
       "      <td>FullTime</td>\n",
       "      <td>Software Engineer (Front End)</td>\n",
       "      <td>Freshgraduate_program</td>\n",
       "      <td>Bagus</td>\n",
       "      <td>Jakarta Timur</td>\n",
       "      <td>Indeed</td>\n",
       "      <td>4</td>\n",
       "      <td>3.0</td>\n",
       "      <td>0.0</td>\n",
       "      <td>0.0</td>\n",
       "      <td>11.0</td>\n",
       "      <td>+6281346215xxx</td>\n",
       "      <td>pluckyMuesli3961@icloud.com</td>\n",
       "      <td>Magister</td>\n",
       "      <td>1</td>\n",
       "      <td>1.0</td>\n",
       "      <td>jam_kerja</td>\n",
       "      <td>1974-01-07</td>\n",
       "      <td>2011-01-10</td>\n",
       "      <td>2016-01-10</td>\n",
       "      <td>2014-9-24</td>\n",
       "    </tr>\n",
       "    <tr>\n",
       "      <th>3</th>\n",
       "      <td>stressedTruffle1</td>\n",
       "      <td>106325</td>\n",
       "      <td>Belum_menikah</td>\n",
       "      <td>Pria</td>\n",
       "      <td>Outsource</td>\n",
       "      <td>Software Engineer (Front End)</td>\n",
       "      <td>Freshgraduate_program</td>\n",
       "      <td>Bagus</td>\n",
       "      <td>Jakarta Pusat</td>\n",
       "      <td>LinkedIn</td>\n",
       "      <td>3</td>\n",
       "      <td>3.0</td>\n",
       "      <td>0.0</td>\n",
       "      <td>4.0</td>\n",
       "      <td>6.0</td>\n",
       "      <td>+6283233846xxx</td>\n",
       "      <td>stressedTruffle1406@hotmail.com</td>\n",
       "      <td>Sarjana</td>\n",
       "      <td>1</td>\n",
       "      <td>0.0</td>\n",
       "      <td>masih_bekerja</td>\n",
       "      <td>1979-11-24</td>\n",
       "      <td>2014-2-17</td>\n",
       "      <td>2020-02-04</td>\n",
       "      <td>-</td>\n",
       "    </tr>\n",
       "    <tr>\n",
       "      <th>4</th>\n",
       "      <td>shyTermite7</td>\n",
       "      <td>111171</td>\n",
       "      <td>Belum_menikah</td>\n",
       "      <td>Wanita</td>\n",
       "      <td>FullTime</td>\n",
       "      <td>Product Manager</td>\n",
       "      <td>Freshgraduate_program</td>\n",
       "      <td>Bagus</td>\n",
       "      <td>Jakarta Timur</td>\n",
       "      <td>LinkedIn</td>\n",
       "      <td>3</td>\n",
       "      <td>3.0</td>\n",
       "      <td>0.0</td>\n",
       "      <td>0.0</td>\n",
       "      <td>11.0</td>\n",
       "      <td>+6287883263xxx</td>\n",
       "      <td>shyTermite7149@gmail.com</td>\n",
       "      <td>Sarjana</td>\n",
       "      <td>1</td>\n",
       "      <td>0.0</td>\n",
       "      <td>ganti_karir</td>\n",
       "      <td>1974-11-07</td>\n",
       "      <td>2013-11-11</td>\n",
       "      <td>2020-1-22</td>\n",
       "      <td>2018-09-06</td>\n",
       "    </tr>\n",
       "  </tbody>\n",
       "</table>\n",
       "</div>"
      ],
      "text/plain": [
       "            Username  EnterpriseID StatusPernikahan JenisKelamin  \\\n",
       "0  spiritedPorpoise3        111065    Belum_menikah         Pria   \n",
       "1    jealousGelding2        106080    Belum_menikah         Pria   \n",
       "2      pluckyMuesli3        106452          Menikah         Pria   \n",
       "3   stressedTruffle1        106325    Belum_menikah         Pria   \n",
       "4        shyTermite7        111171    Belum_menikah       Wanita   \n",
       "\n",
       "  StatusKepegawaian                      Pekerjaan           JenjangKarir  \\\n",
       "0         Outsource   Software Engineer (Back End)  Freshgraduate_program   \n",
       "1          FullTime                   Data Analyst  Freshgraduate_program   \n",
       "2          FullTime  Software Engineer (Front End)  Freshgraduate_program   \n",
       "3         Outsource  Software Engineer (Front End)  Freshgraduate_program   \n",
       "4          FullTime                Product Manager  Freshgraduate_program   \n",
       "\n",
       "  PerformancePegawai     AsalDaerah     HiringPlatform  SkorSurveyEngagement  \\\n",
       "0       Sangat_bagus  Jakarta Timur  Employee_Referral                     4   \n",
       "1      Sangat_kurang  Jakarta Utara            Website                     4   \n",
       "2              Bagus  Jakarta Timur             Indeed                     4   \n",
       "3              Bagus  Jakarta Pusat           LinkedIn                     3   \n",
       "4              Bagus  Jakarta Timur           LinkedIn                     3   \n",
       "\n",
       "   SkorKepuasanPegawai  JumlahKeikutsertaanProjek  \\\n",
       "0                  4.0                        0.0   \n",
       "1                  4.0                        4.0   \n",
       "2                  3.0                        0.0   \n",
       "3                  3.0                        0.0   \n",
       "4                  3.0                        0.0   \n",
       "\n",
       "   JumlahKeterlambatanSebulanTerakhir  JumlahKetidakhadiran         NomorHP  \\\n",
       "0                                 0.0                   9.0  +6282232522xxx   \n",
       "1                                 0.0                   3.0  +6281270745xxx   \n",
       "2                                 0.0                  11.0  +6281346215xxx   \n",
       "3                                 4.0                   6.0  +6283233846xxx   \n",
       "4                                 0.0                  11.0  +6287883263xxx   \n",
       "\n",
       "                             Email TingkatPendidikan PernahBekerja  \\\n",
       "0   spiritedPorpoise3135@yahoo.com          Magister             1   \n",
       "1     jealousGelding2239@yahoo.com           Sarjana             1   \n",
       "2      pluckyMuesli3961@icloud.com          Magister             1   \n",
       "3  stressedTruffle1406@hotmail.com           Sarjana             1   \n",
       "4         shyTermite7149@gmail.com           Sarjana             1   \n",
       "\n",
       "   IkutProgramLOP   AlasanResign TanggalLahir TanggalHiring  \\\n",
       "0             1.0  masih_bekerja   1972-07-01    2011-01-10   \n",
       "1             1.0  toxic_culture   1984-04-26    2014-01-06   \n",
       "2             1.0      jam_kerja   1974-01-07    2011-01-10   \n",
       "3             0.0  masih_bekerja   1979-11-24     2014-2-17   \n",
       "4             0.0    ganti_karir   1974-11-07    2013-11-11   \n",
       "\n",
       "  TanggalPenilaianKaryawan TanggalResign  \n",
       "0                2016-2-15             -  \n",
       "1                2020-1-17     2018-6-16  \n",
       "2               2016-01-10     2014-9-24  \n",
       "3               2020-02-04             -  \n",
       "4                2020-1-22    2018-09-06  "
      ]
     },
     "execution_count": 3,
     "metadata": {},
     "output_type": "execute_result"
    }
   ],
   "source": [
    "df.head()"
   ]
  },
  {
   "cell_type": "code",
   "execution_count": 4,
   "id": "9d7edb93-c5b4-445d-8173-e9662dcbb47d",
   "metadata": {},
   "outputs": [
    {
     "name": "stdout",
     "output_type": "stream",
     "text": [
      "<class 'pandas.core.frame.DataFrame'>\n",
      "RangeIndex: 287 entries, 0 to 286\n",
      "Data columns (total 25 columns):\n",
      " #   Column                              Non-Null Count  Dtype  \n",
      "---  ------                              --------------  -----  \n",
      " 0   Username                            287 non-null    object \n",
      " 1   EnterpriseID                        287 non-null    int64  \n",
      " 2   StatusPernikahan                    287 non-null    object \n",
      " 3   JenisKelamin                        287 non-null    object \n",
      " 4   StatusKepegawaian                   287 non-null    object \n",
      " 5   Pekerjaan                           287 non-null    object \n",
      " 6   JenjangKarir                        287 non-null    object \n",
      " 7   PerformancePegawai                  287 non-null    object \n",
      " 8   AsalDaerah                          287 non-null    object \n",
      " 9   HiringPlatform                      287 non-null    object \n",
      " 10  SkorSurveyEngagement                287 non-null    int64  \n",
      " 11  SkorKepuasanPegawai                 282 non-null    float64\n",
      " 12  JumlahKeikutsertaanProjek           284 non-null    float64\n",
      " 13  JumlahKeterlambatanSebulanTerakhir  286 non-null    float64\n",
      " 14  JumlahKetidakhadiran                281 non-null    float64\n",
      " 15  NomorHP                             287 non-null    object \n",
      " 16  Email                               287 non-null    object \n",
      " 17  TingkatPendidikan                   287 non-null    object \n",
      " 18  PernahBekerja                       287 non-null    object \n",
      " 19  IkutProgramLOP                      29 non-null     float64\n",
      " 20  AlasanResign                        221 non-null    object \n",
      " 21  TanggalLahir                        287 non-null    object \n",
      " 22  TanggalHiring                       287 non-null    object \n",
      " 23  TanggalPenilaianKaryawan            287 non-null    object \n",
      " 24  TanggalResign                       287 non-null    object \n",
      "dtypes: float64(5), int64(2), object(18)\n",
      "memory usage: 56.2+ KB\n"
     ]
    }
   ],
   "source": [
    "df.info()"
   ]
  },
  {
   "cell_type": "markdown",
   "id": "f40cc960-0394-407d-909c-0f914eee51d6",
   "metadata": {},
   "source": [
    "Fitur `JumlahKeterlambatanSebulanTerakhir`,`JumlahKetidakhadiran`,`IkutProgramLOP`,`AlasanResign` memiliki missing value"
   ]
  },
  {
   "cell_type": "markdown",
   "id": "f1ab52bf-4cd5-4440-9398-c1f77c3c839d",
   "metadata": {},
   "source": [
    "# Check Missing Value"
   ]
  },
  {
   "cell_type": "code",
   "execution_count": 9,
   "id": "8ffe2f7a-0c97-4364-9557-c68de8332df4",
   "metadata": {},
   "outputs": [],
   "source": [
    "df_clean = df.copy()"
   ]
  },
  {
   "cell_type": "code",
   "execution_count": 10,
   "id": "2f43f826-4121-4d93-86b4-f233d9940201",
   "metadata": {},
   "outputs": [
    {
     "data": {
      "text/plain": [
       "IkutProgramLOP                        258\n",
       "AlasanResign                           66\n",
       "JumlahKetidakhadiran                    6\n",
       "SkorKepuasanPegawai                     5\n",
       "JumlahKeikutsertaanProjek               3\n",
       "JumlahKeterlambatanSebulanTerakhir      1\n",
       "TanggalPenilaianKaryawan                0\n",
       "TanggalHiring                           0\n",
       "TanggalLahir                            0\n",
       "PernahBekerja                           0\n",
       "TingkatPendidikan                       0\n",
       "Email                                   0\n",
       "NomorHP                                 0\n",
       "Username                                0\n",
       "EnterpriseID                            0\n",
       "SkorSurveyEngagement                    0\n",
       "HiringPlatform                          0\n",
       "AsalDaerah                              0\n",
       "PerformancePegawai                      0\n",
       "JenjangKarir                            0\n",
       "Pekerjaan                               0\n",
       "StatusKepegawaian                       0\n",
       "JenisKelamin                            0\n",
       "StatusPernikahan                        0\n",
       "TanggalResign                           0\n",
       "dtype: int64"
      ]
     },
     "execution_count": 10,
     "metadata": {},
     "output_type": "execute_result"
    }
   ],
   "source": [
    "df_clean.isnull().sum().sort_values(ascending = False)"
   ]
  },
  {
   "cell_type": "markdown",
   "id": "6f9cdf96-6b8c-4771-9cde-7c2594e728e0",
   "metadata": {},
   "source": [
    "* Fitur IkutProgramLOP terlalu banyak nilai null dari keseluruhan data sehingga fitur ini tidak akan dipakai \n",
    "* Terlihat data yang memiliki nilai null pada fitur `AlasanResign` belum resign dari pekerjaan sehingga dapat digantikan dengan \"masih_bekerja\"\n",
    "* Nilai null pada fitur `JumlahKetidakhadiran` dapat digantikan dengan nilai 0\n",
    "* Nilai null pada fitur `JumlahKeikutsertaanProjek` dapat digantikan dengan nilai 0\n",
    "* Nilai null pada fitur `JumlahKeterlambatanSebulanTerakhir` dapat digantikan dengan nilai 0\n",
    "* Nilai null pada fitur `SkorKepuasanPegawai` dapat digantikan dengan nilai median"
   ]
  },
  {
   "cell_type": "markdown",
   "id": "eb63028b-d4c4-416e-9269-63e09cc711df",
   "metadata": {},
   "source": [
    "# Handle Missing Value"
   ]
  },
  {
   "cell_type": "code",
   "execution_count": 11,
   "id": "0fd3b208-7762-4de9-be2f-3ca997370e0e",
   "metadata": {
    "tags": []
   },
   "outputs": [],
   "source": [
    "df_clean['AlasanResign'] = df_clean['AlasanResign'].fillna('masih_bekerja')\n",
    "df_clean['JumlahKetidakhadiran'] = df_clean['JumlahKetidakhadiran'].fillna(0)\n",
    "df_clean['JumlahKeikutsertaanProjek'] = df_clean['JumlahKeikutsertaanProjek'].fillna(0)\n",
    "df_clean['JumlahKeterlambatanSebulanTerakhir'] = df_clean['JumlahKeterlambatanSebulanTerakhir'].fillna(0)\n",
    "df_clean['SkorKepuasanPegawai'].fillna(df_clean['SkorKepuasanPegawai'].median(),inplace = True)\n",
    "df_clean.drop(columns = ['IkutProgramLOP'], inplace = True)"
   ]
  },
  {
   "cell_type": "code",
   "execution_count": 12,
   "id": "33422559-839c-48a3-a145-aeb542a24d13",
   "metadata": {},
   "outputs": [
    {
     "data": {
      "text/plain": [
       "Username                              0\n",
       "EnterpriseID                          0\n",
       "StatusPernikahan                      0\n",
       "JenisKelamin                          0\n",
       "StatusKepegawaian                     0\n",
       "Pekerjaan                             0\n",
       "JenjangKarir                          0\n",
       "PerformancePegawai                    0\n",
       "AsalDaerah                            0\n",
       "HiringPlatform                        0\n",
       "SkorSurveyEngagement                  0\n",
       "SkorKepuasanPegawai                   0\n",
       "JumlahKeikutsertaanProjek             0\n",
       "JumlahKeterlambatanSebulanTerakhir    0\n",
       "JumlahKetidakhadiran                  0\n",
       "NomorHP                               0\n",
       "Email                                 0\n",
       "TingkatPendidikan                     0\n",
       "PernahBekerja                         0\n",
       "AlasanResign                          0\n",
       "TanggalLahir                          0\n",
       "TanggalHiring                         0\n",
       "TanggalPenilaianKaryawan              0\n",
       "TanggalResign                         0\n",
       "dtype: int64"
      ]
     },
     "execution_count": 12,
     "metadata": {},
     "output_type": "execute_result"
    }
   ],
   "source": [
    "df_clean.isnull().sum()"
   ]
  },
  {
   "cell_type": "code",
   "execution_count": 13,
   "id": "9f312740-bcfe-4764-9b7f-b6bb1f0bf102",
   "metadata": {},
   "outputs": [
    {
     "name": "stdout",
     "output_type": "stream",
     "text": [
      "<class 'pandas.core.frame.DataFrame'>\n",
      "RangeIndex: 287 entries, 0 to 286\n",
      "Data columns (total 24 columns):\n",
      " #   Column                              Non-Null Count  Dtype  \n",
      "---  ------                              --------------  -----  \n",
      " 0   Username                            287 non-null    object \n",
      " 1   EnterpriseID                        287 non-null    int64  \n",
      " 2   StatusPernikahan                    287 non-null    object \n",
      " 3   JenisKelamin                        287 non-null    object \n",
      " 4   StatusKepegawaian                   287 non-null    object \n",
      " 5   Pekerjaan                           287 non-null    object \n",
      " 6   JenjangKarir                        287 non-null    object \n",
      " 7   PerformancePegawai                  287 non-null    object \n",
      " 8   AsalDaerah                          287 non-null    object \n",
      " 9   HiringPlatform                      287 non-null    object \n",
      " 10  SkorSurveyEngagement                287 non-null    int64  \n",
      " 11  SkorKepuasanPegawai                 287 non-null    float64\n",
      " 12  JumlahKeikutsertaanProjek           287 non-null    float64\n",
      " 13  JumlahKeterlambatanSebulanTerakhir  287 non-null    float64\n",
      " 14  JumlahKetidakhadiran                287 non-null    float64\n",
      " 15  NomorHP                             287 non-null    object \n",
      " 16  Email                               287 non-null    object \n",
      " 17  TingkatPendidikan                   287 non-null    object \n",
      " 18  PernahBekerja                       287 non-null    object \n",
      " 19  AlasanResign                        287 non-null    object \n",
      " 20  TanggalLahir                        287 non-null    object \n",
      " 21  TanggalHiring                       287 non-null    object \n",
      " 22  TanggalPenilaianKaryawan            287 non-null    object \n",
      " 23  TanggalResign                       287 non-null    object \n",
      "dtypes: float64(4), int64(2), object(18)\n",
      "memory usage: 53.9+ KB\n"
     ]
    }
   ],
   "source": [
    "df_clean.info()"
   ]
  },
  {
   "cell_type": "markdown",
   "id": "d1d832cf-e42b-48a0-a724-77319bfcb616",
   "metadata": {},
   "source": [
    "# Check Duplicate Data"
   ]
  },
  {
   "cell_type": "code",
   "execution_count": 14,
   "id": "059cfa13-c07f-43a0-b296-2964cfbc25e6",
   "metadata": {},
   "outputs": [
    {
     "data": {
      "text/plain": [
       "0"
      ]
     },
     "execution_count": 14,
     "metadata": {},
     "output_type": "execute_result"
    }
   ],
   "source": [
    "df_clean.duplicated().sum()"
   ]
  },
  {
   "cell_type": "code",
   "execution_count": 15,
   "id": "bffdf43f-5849-461e-a1ce-e8f6f8b6f679",
   "metadata": {},
   "outputs": [
    {
     "data": {
      "text/plain": [
       "1      286\n",
       "yes      1\n",
       "Name: PernahBekerja, dtype: int64"
      ]
     },
     "execution_count": 15,
     "metadata": {},
     "output_type": "execute_result"
    }
   ],
   "source": [
    "df_clean['PernahBekerja'].value_counts()"
   ]
  },
  {
   "cell_type": "markdown",
   "id": "303eefb8-f1d3-4ba6-98a1-801a50eccc71",
   "metadata": {},
   "source": [
    "* Terdapat dua value yang berbeda input namun memiliki arti yang sama,jika yes digantikan menjadi \"1\" maka fitur hanya memiliki 1 unique value. Maka fitur `PernahBekerja` akan dibuang"
   ]
  },
  {
   "cell_type": "code",
   "execution_count": 22,
   "id": "5aeb325c-1fe9-4fb9-91e1-270e3e30f881",
   "metadata": {},
   "outputs": [],
   "source": [
    "df_clean.drop(columns = ['PernahBekerja'], inplace = True)"
   ]
  },
  {
   "cell_type": "code",
   "execution_count": 23,
   "id": "66d23293-e8c4-4523-8915-5097a550ab08",
   "metadata": {},
   "outputs": [
    {
     "name": "stdout",
     "output_type": "stream",
     "text": [
      "<class 'pandas.core.frame.DataFrame'>\n",
      "RangeIndex: 287 entries, 0 to 286\n",
      "Data columns (total 23 columns):\n",
      " #   Column                              Non-Null Count  Dtype  \n",
      "---  ------                              --------------  -----  \n",
      " 0   Username                            287 non-null    object \n",
      " 1   EnterpriseID                        287 non-null    int64  \n",
      " 2   StatusPernikahan                    287 non-null    object \n",
      " 3   JenisKelamin                        287 non-null    object \n",
      " 4   StatusKepegawaian                   287 non-null    object \n",
      " 5   Pekerjaan                           287 non-null    object \n",
      " 6   JenjangKarir                        287 non-null    object \n",
      " 7   PerformancePegawai                  287 non-null    object \n",
      " 8   AsalDaerah                          287 non-null    object \n",
      " 9   HiringPlatform                      287 non-null    object \n",
      " 10  SkorSurveyEngagement                287 non-null    int64  \n",
      " 11  SkorKepuasanPegawai                 287 non-null    float64\n",
      " 12  JumlahKeikutsertaanProjek           287 non-null    float64\n",
      " 13  JumlahKeterlambatanSebulanTerakhir  287 non-null    float64\n",
      " 14  JumlahKetidakhadiran                287 non-null    float64\n",
      " 15  NomorHP                             287 non-null    object \n",
      " 16  Email                               287 non-null    object \n",
      " 17  TingkatPendidikan                   287 non-null    object \n",
      " 18  AlasanResign                        287 non-null    object \n",
      " 19  TanggalLahir                        287 non-null    object \n",
      " 20  TanggalHiring                       287 non-null    object \n",
      " 21  TanggalPenilaianKaryawan            287 non-null    object \n",
      " 22  TanggalResign                       287 non-null    object \n",
      "dtypes: float64(4), int64(2), object(17)\n",
      "memory usage: 51.7+ KB\n"
     ]
    }
   ],
   "source": [
    "df_clean.info()"
   ]
  },
  {
   "cell_type": "code",
   "execution_count": 24,
   "id": "9c09d27f-7d87-499b-ba46-44b65b2cd79a",
   "metadata": {},
   "outputs": [],
   "source": [
    "df_cleaned = df_clean.copy()"
   ]
  }
 ],
 "metadata": {
  "kernelspec": {
   "display_name": "Python 3 (ipykernel)",
   "language": "python",
   "name": "python3"
  },
  "language_info": {
   "codemirror_mode": {
    "name": "ipython",
    "version": 3
   },
   "file_extension": ".py",
   "mimetype": "text/x-python",
   "name": "python",
   "nbconvert_exporter": "python",
   "pygments_lexer": "ipython3",
   "version": "3.9.7"
  }
 },
 "nbformat": 4,
 "nbformat_minor": 5
}
